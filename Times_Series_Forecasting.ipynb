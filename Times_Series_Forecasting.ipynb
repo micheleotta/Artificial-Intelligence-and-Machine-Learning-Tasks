{
  "nbformat": 4,
  "nbformat_minor": 0,
  "metadata": {
    "colab": {
      "provenance": []
    },
    "kernelspec": {
      "name": "python3",
      "display_name": "Python 3"
    },
    "language_info": {
      "name": "python"
    }
  },
  "cells": [
    {
      "cell_type": "markdown",
      "source": [
        "**Student:** Michele Cristina Otta"
      ],
      "metadata": {
        "id": "FU5CCk1eO_zv"
      }
    },
    {
      "cell_type": "markdown",
      "source": [
        "# Times Series Forecasting\n",
        "Data Science Track -> Air Quality Index Forecasting"
      ],
      "metadata": {
        "id": "xMxqET2avyPb"
      }
    },
    {
      "cell_type": "code",
      "source": [
        "!pip install ucimlrepo"
      ],
      "metadata": {
        "colab": {
          "base_uri": "https://localhost:8080/"
        },
        "id": "2csB-jI7v-E9",
        "outputId": "7cccfa2b-7090-42e2-dbdd-0d5552429659"
      },
      "execution_count": 1,
      "outputs": [
        {
          "output_type": "stream",
          "name": "stdout",
          "text": [
            "Collecting ucimlrepo\n",
            "  Downloading ucimlrepo-0.0.7-py3-none-any.whl.metadata (5.5 kB)\n",
            "Requirement already satisfied: pandas>=1.0.0 in /usr/local/lib/python3.11/dist-packages (from ucimlrepo) (2.2.2)\n",
            "Requirement already satisfied: certifi>=2020.12.5 in /usr/local/lib/python3.11/dist-packages (from ucimlrepo) (2025.1.31)\n",
            "Requirement already satisfied: numpy>=1.23.2 in /usr/local/lib/python3.11/dist-packages (from pandas>=1.0.0->ucimlrepo) (2.0.2)\n",
            "Requirement already satisfied: python-dateutil>=2.8.2 in /usr/local/lib/python3.11/dist-packages (from pandas>=1.0.0->ucimlrepo) (2.8.2)\n",
            "Requirement already satisfied: pytz>=2020.1 in /usr/local/lib/python3.11/dist-packages (from pandas>=1.0.0->ucimlrepo) (2025.2)\n",
            "Requirement already satisfied: tzdata>=2022.7 in /usr/local/lib/python3.11/dist-packages (from pandas>=1.0.0->ucimlrepo) (2025.2)\n",
            "Requirement already satisfied: six>=1.5 in /usr/local/lib/python3.11/dist-packages (from python-dateutil>=2.8.2->pandas>=1.0.0->ucimlrepo) (1.17.0)\n",
            "Downloading ucimlrepo-0.0.7-py3-none-any.whl (8.0 kB)\n",
            "Installing collected packages: ucimlrepo\n",
            "Successfully installed ucimlrepo-0.0.7\n"
          ]
        }
      ]
    },
    {
      "cell_type": "code",
      "source": [
        "from ucimlrepo import fetch_ucirepo\n",
        "import pandas as pd\n",
        "import numpy as np\n",
        "\n",
        "# load air quality index dataset\n",
        "air_quality = fetch_ucirepo(id=360)\n",
        "air_quality = pd.DataFrame(air_quality.data.features)\n",
        "\n",
        "air_quality['Date'] = pd.to_datetime(air_quality['Date'], format='mixed').dt.strftime('%Y/%m/%d')\n",
        "air_quality['Timestamp'] = pd.to_datetime(air_quality['Date'].astype(str) + ' ' + air_quality['Time'])\n",
        "air_quality.set_index('Timestamp', inplace=True)\n",
        "air_quality.drop(columns=['Date', 'Time'], inplace=True)\n",
        "air_quality.sort_index(inplace = True)\n",
        "\n",
        "# prepare the data as a time series forecasting task\n",
        "def prepare_data(dataset, series='NO2(GT)', lag=2, horizon=1):\n",
        "\n",
        "    u = dataset[series].to_numpy()\n",
        "\n",
        "    n = len(u)\n",
        "    X, y = [], []\n",
        "\n",
        "    for i in range(n - lag - horizon + 1):\n",
        "        X.append(u[i : i + lag])\n",
        "        y.append(u[i + lag + horizon - 1])\n",
        "\n",
        "    return np.array(X), np.array(y)\n",
        "\n",
        "x, y = prepare_data(air_quality)\n",
        "\n",
        "print(x)\n",
        "print(y)"
      ],
      "metadata": {
        "colab": {
          "base_uri": "https://localhost:8080/"
        },
        "id": "f37XveijwMQg",
        "outputId": "7c0ce2ae-705c-4271-ae3c-a8d12bb9b305"
      },
      "execution_count": 12,
      "outputs": [
        {
          "output_type": "stream",
          "name": "stdout",
          "text": [
            "[[113  92]\n",
            " [ 92 114]\n",
            " [114 122]\n",
            " ...\n",
            " [190 179]\n",
            " [179 175]\n",
            " [175 156]]\n",
            "[114 122 116 ... 175 156 168]\n"
          ]
        }
      ]
    },
    {
      "cell_type": "code",
      "source": [
        "from sklearn.model_selection import TimeSeriesSplit\n",
        "\n",
        "# use times series split (5 splits)\n",
        "tscv = TimeSeriesSplit(n_splits=5)\n",
        "print(tscv)\n",
        "for i, (train_index, test_index) in enumerate(tscv.split(x)):\n",
        "    print(f\"Fold {i}:\")\n",
        "    print(f\"  Train: index={train_index}\")\n",
        "    print(f\"  Test:  index={test_index}\")"
      ],
      "metadata": {
        "colab": {
          "base_uri": "https://localhost:8080/"
        },
        "id": "9oDiXHn2ifDu",
        "outputId": "84756e6b-d629-4c33-dada-e6f7ffc3e22e"
      },
      "execution_count": 7,
      "outputs": [
        {
          "output_type": "stream",
          "name": "stdout",
          "text": [
            "TimeSeriesSplit(gap=0, max_train_size=None, n_splits=5, test_size=None)\n",
            "Fold 0:\n",
            "  Train: index=[   0    1    2 ... 1557 1558 1559]\n",
            "  Test:  index=[1560 1561 1562 ... 3116 3117 3118]\n",
            "Fold 1:\n",
            "  Train: index=[   0    1    2 ... 3116 3117 3118]\n",
            "  Test:  index=[3119 3120 3121 ... 4675 4676 4677]\n",
            "Fold 2:\n",
            "  Train: index=[   0    1    2 ... 4675 4676 4677]\n",
            "  Test:  index=[4678 4679 4680 ... 6234 6235 6236]\n",
            "Fold 3:\n",
            "  Train: index=[   0    1    2 ... 6234 6235 6236]\n",
            "  Test:  index=[6237 6238 6239 ... 7793 7794 7795]\n",
            "Fold 4:\n",
            "  Train: index=[   0    1    2 ... 7793 7794 7795]\n",
            "  Test:  index=[7796 7797 7798 ... 9352 9353 9354]\n"
          ]
        }
      ]
    },
    {
      "cell_type": "code",
      "source": [
        "from sklearn.linear_model import LinearRegression\n",
        "from sklearn.ensemble import RandomForestRegressor\n",
        "from sklearn.metrics import mean_squared_error, mean_absolute_error\n",
        "\n",
        "# compare 3 regression models (Linear Regression, Random Forest, naive (Y t+1 = Y t))\n",
        "linear_regression = LinearRegression()\n",
        "tree_regression = RandomForestRegressor()\n",
        "\n",
        "models = {\n",
        "    \"Linear Regression\": linear_regression,\n",
        "    \"Random Forest\": tree_regression,\n",
        "    \"Naive (Y t+1 = Y t)\": None\n",
        "    }\n",
        "\n",
        "for name, model in models.items():\n",
        "  mse = []\n",
        "  mae = []\n",
        "\n",
        "  for i, (train_index, test_index) in enumerate(tscv.split(x)):\n",
        "    x_train, x_test = x[train_index], x[test_index]\n",
        "    y_train, y_test = y[train_index], y[test_index]\n",
        "\n",
        "    if model == None:\n",
        "      predict_scores = y_train[-1]  # valor anterior\n",
        "      predict_scores = np.full_like(y_test, predict_scores, dtype=np.float64)\n",
        "    else:\n",
        "      model.fit(x_train, y_train)\n",
        "      predict_scores = model.predict(x_test)\n",
        "\n",
        "    # check MSE and MAE\n",
        "    mse.append(mean_squared_error(y_test, predict_scores))\n",
        "    mae.append(mean_absolute_error(y_test, predict_scores))\n",
        "\n",
        "  print(f\"\\n======== {name} ========\")\n",
        "  print(f\"Mean Squared Error (MSE): {np.mean(mse):.2f} -> {mse}\")\n",
        "  print(f\"Mean Absolute Error (MAE): {np.mean(mae):.2f} -> {mae}\")"
      ],
      "metadata": {
        "colab": {
          "base_uri": "https://localhost:8080/"
        },
        "id": "5yuUCS32juzy",
        "outputId": "adba335d-b68c-4b1e-bbd7-bdd8f0256350"
      },
      "execution_count": 11,
      "outputs": [
        {
          "output_type": "stream",
          "name": "stdout",
          "text": [
            "\n",
            "======== Linear Regression ========\n",
            "Mean Squared Error (MSE): 4895.31 -> [4785.487713997605, 4698.43348723038, 4555.01407133462, 5521.495642314247, 4916.12894762335]\n",
            "Mean Absolute Error (MAE): 39.10 -> [38.39083468551891, 40.31008262307764, 38.20649265872244, 39.62457577921467, 38.95032095905486]\n",
            "\n",
            "======== Random Forest ========\n",
            "Mean Squared Error (MSE): 4342.27 -> [4053.9185210448345, 4073.2697838708937, 4091.193373103411, 4958.356749481134, 4534.610093445831]\n",
            "Mean Absolute Error (MAE): 32.95 -> [32.4791400213121, 31.044554101724138, 30.308353234742086, 34.472933137087935, 36.44305862111812]\n",
            "\n",
            "======== Naive (Y t+1 = Y t) ========\n",
            "Mean Squared Error (MSE): 24117.79 -> [19778.20205259782, 23036.26491340603, 54245.47466324567, 15170.942912123155, 8358.048107761386]\n",
            "Mean Absolute Error (MAE): 107.77 -> [101.0166773572803, 110.40089801154586, 184.0891597177678, 73.68954457985889, 69.65426555484285]\n"
          ]
        }
      ]
    },
    {
      "cell_type": "markdown",
      "source": [
        "### Analysis\n",
        "* Random Forest had the best performance:\n",
        "  * Mean Squared Error (MSE)  = 4342.27 -> best = 4053.9185210448345\n",
        "  * Mean Absolute Error (MAE) = 32.95  -> best = 30.308353234742086\n",
        "  * captures complex patterns better than linear models.\n",
        "* Meanwhile, the Naive model had the worst results:\n",
        "  * Mean Squared Error (MSE) = 24117.79\n",
        "  * Mean Absolute Error (MAE) = 107.77\n",
        "* Linear Regression performed better than the Naive Model but slightly worse than Random Forest:\n",
        "  * Mean Squared Error (MSE) = 4895.31\n",
        "  * Mean Absolute Error (MAE) = 39.10"
      ],
      "metadata": {
        "id": "jsOml9_6nx6u"
      }
    },
    {
      "cell_type": "markdown",
      "source": [
        "# References\n",
        "* [Air Quality Index Dataset](https://archive.ics.uci.edu/dataset/360/air+quality)\n",
        "* [A Practical Guide on Scikit-learn for Time Series Forecasting](https://medium.com/@mouse3mic3/a-practical-guide-on-scikit-learn-for-time-series-forecasting-bbd15b611a5d)\n",
        "* [TimeSeriesSplit](https://scikit-learn.org/stable/modules/generated/sklearn.model_selection.TimeSeriesSplit.html)\n",
        "* [Random Forest for Time Series Forecasting](https://www.analyticsvidhya.com/blog/2021/06/random-forest-for-time-series-forecasting/)"
      ],
      "metadata": {
        "id": "XzDncTBSPyKz"
      }
    }
  ]
}